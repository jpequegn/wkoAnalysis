{
  "nbformat": 4,
  "nbformat_minor": 0,
  "metadata": {
    "kernelspec": {
      "display_name": "Python 3",
      "language": "python",
      "name": "python3"
    },
    "language_info": {
      "codemirror_mode": {
        "name": "ipython",
        "version": 3
      },
      "file_extension": ".py",
      "mimetype": "text/x-python",
      "name": "python",
      "nbconvert_exporter": "python",
      "pygments_lexer": "ipython3",
      "version": "3.7.4"
    },
    "colab": {
      "name": "PDC Curve Fitting.ipynb",
      "provenance": [],
      "toc_visible": true,
      "include_colab_link": true
    }
  },
  "cells": [
    {
      "cell_type": "markdown",
      "metadata": {
        "id": "view-in-github",
        "colab_type": "text"
      },
      "source": [
        "<a href=\"https://colab.research.google.com/github/jpequegn/wkoAnalysis/blob/master/notebooks/PDC%20Curve%20Fitting.ipynb\" target=\"_parent\"><img src=\"https://colab.research.google.com/assets/colab-badge.svg\" alt=\"Open In Colab\"/></a>"
      ]
    },
    {
      "cell_type": "markdown",
      "metadata": {
        "id": "6xziLwtc2bqk"
      },
      "source": [
        "## Bike / Run Power Duration Curve fitting"
      ]
    },
    {
      "cell_type": "code",
      "metadata": {
        "id": "CJa40PBi2bqp",
        "outputId": "43ad8540-0f86-48a0-c644-980d4a676d20",
        "colab": {
          "base_uri": "https://localhost:8080/"
        }
      },
      "source": [
        "!pip install -q torch torchvision numpy pandas matplotlib lmfit"
      ],
      "execution_count": 1,
      "outputs": [
        {
          "output_type": "stream",
          "text": [
            "\u001b[K     |████████████████████████████████| 307kB 12.5MB/s \n",
            "\u001b[K     |████████████████████████████████| 61kB 4.1MB/s \n",
            "\u001b[K     |████████████████████████████████| 256kB 26.8MB/s \n",
            "\u001b[?25h  Building wheel for lmfit (setup.py) ... \u001b[?25l\u001b[?25hdone\n",
            "  Building wheel for asteval (setup.py) ... \u001b[?25l\u001b[?25hdone\n"
          ],
          "name": "stdout"
        }
      ]
    },
    {
      "cell_type": "code",
      "metadata": {
        "id": "FQ0bwzTO2bqq"
      },
      "source": [
        "import torch\n",
        "import numpy as np\n",
        "import pandas as pd\n",
        "import matplotlib.pyplot as plt\n",
        "from lmfit import Model, Parameters"
      ],
      "execution_count": 2,
      "outputs": []
    },
    {
      "cell_type": "markdown",
      "metadata": {
        "id": "Px5RwH8v2bqq"
      },
      "source": [
        "# Import the data from a CSV (Secs, Watts)"
      ]
    },
    {
      "cell_type": "code",
      "metadata": {
        "id": "PhVR2SWQ2bqr"
      },
      "source": [
        "df = pd.read_csv(\"./mmpcurve-bike-312.csv\")"
      ],
      "execution_count": 3,
      "outputs": []
    },
    {
      "cell_type": "markdown",
      "metadata": {
        "id": "zcjT86hS2bqr"
      },
      "source": [
        "## Let's try to implement the WKO model\n",
        "The model seems to follow the following formula: P(t) = FRC / t * (1-exp(-t/tau)) + FTP * (1-exp(-t/tau2))\n",
        "       [-a * Ln(t/TTE) if t>TTE]\n",
        "       \n",
        "       \n",
        "FRC: Functional Reserve Capacity\n",
        "\n",
        "FTP: Functional Threshold Power\n",
        "\n",
        "TTE: Time To Exhaustion\n",
        "\n",
        "Other parameters have less direct traceability / meaning but lim(tau, t->0) is close to FRC/Pmax"
      ]
    },
    {
      "cell_type": "markdown",
      "metadata": {
        "id": "2CHUdk8w2bqs"
      },
      "source": [
        "## 1st option: Using LMFIT"
      ]
    },
    {
      "cell_type": "code",
      "metadata": {
        "id": "gWNAO6SQ2bqs"
      },
      "source": [
        "def power_curve(x, frc, ftp, tte, tau, tau2, a):\n",
        "    p = frc / x * (1.0 - np.exp(-x / tau)) + ftp * (1 - np.exp(-x / tau2))\n",
        "    p -= np.maximum(0, a * np.log(x / tte))\n",
        "    return p"
      ],
      "execution_count": 4,
      "outputs": []
    },
    {
      "cell_type": "code",
      "metadata": {
        "id": "IAsZmG5o2bqt"
      },
      "source": [
        "def fit_curve(df_x, df_y, maxtau=20):\n",
        "\n",
        "    gmodel = Model(power_curve)\n",
        "    params = Parameters()\n",
        "    params.add('frc', value=5000, min=1, max=15000)\n",
        "    params.add('ftp', value=200, min=150, max=400)\n",
        "    params.add('tte', value=2000, min=1200)\n",
        "    params.add('tau', value=12, min=10, max=maxtau)\n",
        "    params.add('tau2', value=30, min=10)\n",
        "    params.add('a', value=10, min=10, max=200)\n",
        "    \n",
        "    result = gmodel.fit(df_y, params, x=df_x)\n",
        "    fit = power_curve(df_x, result.best_values['frc'], result.best_values['ftp'], \n",
        "                  result.best_values['tte'], result.best_values['tau'],\n",
        "                  result.best_values['tau2'], result.best_values['a'])\n",
        "\n",
        "    return result, fit"
      ],
      "execution_count": 5,
      "outputs": []
    },
    {
      "cell_type": "code",
      "metadata": {
        "id": "dfDQ_d8Z2bqt"
      },
      "source": [
        "df_x = df['Secs']\n",
        "df_y = df['Watts']"
      ],
      "execution_count": 6,
      "outputs": []
    },
    {
      "cell_type": "code",
      "metadata": {
        "id": "tlzZIbc22bqu",
        "outputId": "8bdac00f-7071-440d-a248-1f9073cb19cc",
        "colab": {
          "base_uri": "https://localhost:8080/"
        }
      },
      "source": [
        "gmodel = Model(power_curve)\n",
        "print('parameter names: {}'.format(gmodel.param_names))\n",
        "print('independent variables: {}'.format(gmodel.independent_vars))"
      ],
      "execution_count": 7,
      "outputs": [
        {
          "output_type": "stream",
          "text": [
            "parameter names: ['frc', 'ftp', 'tte', 'tau', 'tau2', 'a']\n",
            "independent variables: ['x']\n"
          ],
          "name": "stdout"
        }
      ]
    },
    {
      "cell_type": "code",
      "metadata": {
        "id": "1ydC-K5I2bqw",
        "outputId": "7296e287-ffba-446c-ef69-8a23986d263c",
        "colab": {
          "base_uri": "https://localhost:8080/"
        }
      },
      "source": [
        "result, fit = fit_curve(df_x, df_y)\n",
        "result.best_values"
      ],
      "execution_count": 8,
      "outputs": [
        {
          "output_type": "execute_result",
          "data": {
            "text/plain": [
              "{'a': 30.19198800561718,\n",
              " 'frc': 12799.624978440546,\n",
              " 'ftp': 239.6735204405108,\n",
              " 'tau': 16.149290795898978,\n",
              " 'tau2': 32.51441390383078,\n",
              " 'tte': 1852.7269964020265}"
            ]
          },
          "metadata": {
            "tags": []
          },
          "execution_count": 8
        }
      ]
    },
    {
      "cell_type": "code",
      "metadata": {
        "id": "mpRrl4C62bqw"
      },
      "source": [
        "# %matplotlib widget"
      ],
      "execution_count": 9,
      "outputs": []
    },
    {
      "cell_type": "code",
      "metadata": {
        "scrolled": true,
        "id": "3WQiMdkN2bqx",
        "outputId": "ca78e4dd-d489-420d-df8d-f8c13e7d7f10",
        "colab": {
          "base_uri": "https://localhost:8080/",
          "height": 379
        }
      },
      "source": [
        "plt.figure(figsize=(10,6))\n",
        "plt.plot(df_x, df_y, label='MMP')\n",
        "plt.plot(df_x, fit, label='PDC')\n",
        "plt.legend()\n",
        "plt.grid(True)\n",
        "plt.xscale('log')"
      ],
      "execution_count": 10,
      "outputs": [
        {
          "output_type": "display_data",
          "data": {
            "image/png": "[encoded data removed]",
            "text/plain": [
              "<Figure size 720x432 with 1 Axes>"
            ]
          },
          "metadata": {
            "tags": [],
            "needs_background": "light"
          }
        }
      ]
    },
    {
      "cell_type": "code",
      "metadata": {
        "id": "sIAAgdgE2bqx",
        "outputId": "fa8357a0-a831-4b07-cf74-43512e60780f",
        "colab": {
          "base_uri": "https://localhost:8080/",
          "height": 394
        }
      },
      "source": [
        "plt.ion()\n",
        "plt.figure(figsize=(10,6))\n",
        "# fig, ax = plt.subplots()\n",
        "plt.plot(df_x, result.residual, label='residuals')\n",
        "plt.grid(True)\n",
        "plt.title('Normalized residuals')\n",
        "plt.legend()\n",
        "plt.xscale('log')"
      ],
      "execution_count": 11,
      "outputs": [
        {
          "output_type": "display_data",
          "data": {
            "image/png": "[encoded data removed]",
            "text/plain": [
              "<Figure size 720x432 with 1 Axes>"
            ]
          },
          "metadata": {
            "tags": [],
            "needs_background": "light"
          }
        }
      ]
    },
    {
      "cell_type": "markdown",
      "metadata": {
        "id": "qLBn60Ei2bqx"
      },
      "source": [
        "# What-if Analysis"
      ]
    },
    {
      "cell_type": "code",
      "metadata": {
        "id": "4-LBfYkT2bqx"
      },
      "source": [
        "def addNewBest(df, sec, watt):\n",
        "    newbest = (df['Secs']<sec) & (df['Watts']<watt)\n",
        "    df.loc[newbest, \"Watts\"] = watt"
      ],
      "execution_count": null,
      "outputs": []
    },
    {
      "cell_type": "code",
      "metadata": {
        "id": "w52JqoQg2bqz"
      },
      "source": [
        "df_temp = df.copy(deep=True)"
      ],
      "execution_count": null,
      "outputs": []
    },
    {
      "cell_type": "code",
      "metadata": {
        "id": "OmNu6pNk2bqz"
      },
      "source": [
        "# Add some new bests to the MMP curve - then calculate the impact on FRC, FTP and TTE\n",
        "# addNewBest(df_temp, 30, 480)\n",
        "addNewBest(df_temp, 240, 290)"
      ],
      "execution_count": null,
      "outputs": []
    },
    {
      "cell_type": "code",
      "metadata": {
        "id": "v3aJhdUs2bqz",
        "outputId": "ef33b48b-1d1f-4979-fc2a-9d291a338726"
      },
      "source": [
        "plt.figure(figsize=(10,6))\n",
        "plt.plot(df_x, df_temp['Watts'], label='Scenario', color='r')\n",
        "plt.plot(df_x, df['Watts'], label='MMP', color='g')\n",
        "plt.plot(df_x, fit, label='PDC', color='b')\n",
        "plt.grid(True)\n",
        "plt.legend()\n",
        "plt.xscale('log')"
      ],
      "execution_count": null,
      "outputs": [
        {
          "output_type": "display_data",
          "data": {
            "image/png": "[encoded data removed]",
            "text/plain": [
              "<Figure size 720x432 with 1 Axes>"
            ]
          },
          "metadata": {
            "tags": [],
            "needs_background": "light"
          }
        }
      ]
    },
    {
      "cell_type": "code",
      "metadata": {
        "id": "4DHrpMUr2bqz",
        "outputId": "893b107e-d3ec-4e4a-f8b5-7fb3a72853c7"
      },
      "source": [
        "\n",
        "result_scen, fit_scen = fit_curve(df_temp['Secs'], df_temp['Watts'], maxtau=16)\n",
        "result.best_values, result_scen.best_values"
      ],
      "execution_count": null,
      "outputs": [
        {
          "output_type": "execute_result",
          "data": {
            "text/plain": [
              "({'frc': 12799.624977094038,\n",
              "  'ftp': 239.67352043229445,\n",
              "  'tte': 1852.7269959256928,\n",
              "  'tau': 16.149290795158088,\n",
              "  'tau2': 32.514413889665576,\n",
              "  'a': 30.19198800561718},\n",
              " {'frc': 11739.876694048677,\n",
              "  'ftp': 243.75880822339764,\n",
              "  'tte': 1695.4938812278624,\n",
              "  'tau': 14.843442810551998,\n",
              "  'tau2': 28.617058558753072,\n",
              "  'a': 61.75877778125107})"
            ]
          },
          "metadata": {
            "tags": []
          },
          "execution_count": 18
        }
      ]
    },
    {
      "cell_type": "code",
      "metadata": {
        "id": "2TacCv5Z2bqz",
        "outputId": "eb238f15-d3a6-4bc6-aef4-19be9e3f830f"
      },
      "source": [
        "plt.figure(figsize=(10,6))\n",
        "plt.plot(df_temp['Secs'], df_temp['Watts'], label='MMP')\n",
        "plt.plot(df_temp['Secs'], fit_scen, label='PDC')\n",
        "plt.legend()\n",
        "plt.xscale('log')"
      ],
      "execution_count": null,
      "outputs": [
        {
          "output_type": "display_data",
          "data": {
            "image/png": "[encoded data removed]",
            "text/plain": [
              "<Figure size 720x432 with 1 Axes>"
            ]
          },
          "metadata": {
            "tags": [],
            "needs_background": "light"
          }
        }
      ]
    },
    {
      "cell_type": "code",
      "metadata": {
        "id": "BLsY7gt-2bqz",
        "outputId": "0d3e48dc-0b89-4145-dfa0-4dbda46d39f9"
      },
      "source": [
        "df_temp"
      ],
      "execution_count": null,
      "outputs": [
        {
          "output_type": "execute_result",
          "data": {
            "text/html": [
              "<div>\n",
              "<style scoped>\n",
              "    .dataframe tbody tr th:only-of-type {\n",
              "        vertical-align: middle;\n",
              "    }\n",
              "\n",
              "    .dataframe tbody tr th {\n",
              "        vertical-align: top;\n",
              "    }\n",
              "\n",
              "    .dataframe thead th {\n",
              "        text-align: right;\n",
              "    }\n",
              "</style>\n",
              "<table border=\"1\" class=\"dataframe\">\n",
              "  <thead>\n",
              "    <tr style=\"text-align: right;\">\n",
              "      <th></th>\n",
              "      <th>Secs</th>\n",
              "      <th>Watts</th>\n",
              "    </tr>\n",
              "  </thead>\n",
              "  <tbody>\n",
              "    <tr>\n",
              "      <th>0</th>\n",
              "      <td>1</td>\n",
              "      <td>735</td>\n",
              "    </tr>\n",
              "    <tr>\n",
              "      <th>1</th>\n",
              "      <td>2</td>\n",
              "      <td>723</td>\n",
              "    </tr>\n",
              "    <tr>\n",
              "      <th>2</th>\n",
              "      <td>3</td>\n",
              "      <td>721</td>\n",
              "    </tr>\n",
              "    <tr>\n",
              "      <th>3</th>\n",
              "      <td>4</td>\n",
              "      <td>720</td>\n",
              "    </tr>\n",
              "    <tr>\n",
              "      <th>4</th>\n",
              "      <td>5</td>\n",
              "      <td>713</td>\n",
              "    </tr>\n",
              "    <tr>\n",
              "      <th>...</th>\n",
              "      <td>...</td>\n",
              "      <td>...</td>\n",
              "    </tr>\n",
              "    <tr>\n",
              "      <th>158</th>\n",
              "      <td>7922</td>\n",
              "      <td>203</td>\n",
              "    </tr>\n",
              "    <tr>\n",
              "      <th>159</th>\n",
              "      <td>8318</td>\n",
              "      <td>202</td>\n",
              "    </tr>\n",
              "    <tr>\n",
              "      <th>160</th>\n",
              "      <td>8734</td>\n",
              "      <td>202</td>\n",
              "    </tr>\n",
              "    <tr>\n",
              "      <th>161</th>\n",
              "      <td>9171</td>\n",
              "      <td>202</td>\n",
              "    </tr>\n",
              "    <tr>\n",
              "      <th>162</th>\n",
              "      <td>9629</td>\n",
              "      <td>202</td>\n",
              "    </tr>\n",
              "  </tbody>\n",
              "</table>\n",
              "<p>163 rows × 2 columns</p>\n",
              "</div>"
            ],
            "text/plain": [
              "     Secs  Watts\n",
              "0       1    735\n",
              "1       2    723\n",
              "2       3    721\n",
              "3       4    720\n",
              "4       5    713\n",
              "..    ...    ...\n",
              "158  7922    203\n",
              "159  8318    202\n",
              "160  8734    202\n",
              "161  9171    202\n",
              "162  9629    202\n",
              "\n",
              "[163 rows x 2 columns]"
            ]
          },
          "metadata": {
            "tags": []
          },
          "execution_count": 20
        }
      ]
    },
    {
      "cell_type": "code",
      "metadata": {
        "id": "00LpvAh22bqz",
        "outputId": "fdc0955f-db69-4b18-ae0d-bcc7a13f0bd0"
      },
      "source": [
        "sec = 1200\n",
        "watt = 256\n",
        "newbest = (df['Secs']<sec) & (df['Watts']<watt)\n",
        "test = df.loc[newbest]\n",
        "print(test.index[-1:]+1)"
      ],
      "execution_count": null,
      "outputs": [
        {
          "output_type": "stream",
          "text": [
            "Int64Index([115], dtype='int64')\n"
          ],
          "name": "stdout"
        }
      ]
    },
    {
      "cell_type": "markdown",
      "metadata": {
        "id": "o6R2SCkq2bqz"
      },
      "source": [
        "## 2nd option: Approximate the PDC with a FC neural net\n",
        "\n",
        "Basic implementation in Pytorch"
      ]
    },
    {
      "cell_type": "code",
      "metadata": {
        "id": "hzuq_x2x2bq0"
      },
      "source": [
        "inp = 1\n",
        "hidden = 12\n",
        "out = 1\n",
        "lr = 1e-3"
      ],
      "execution_count": null,
      "outputs": []
    },
    {
      "cell_type": "code",
      "metadata": {
        "id": "76nctCeQ2bq0"
      },
      "source": [
        "model = torch.nn.Sequential(\n",
        "    torch.nn.Linear(inp, hidden),\n",
        "    torch.nn.ReLU(),\n",
        "    torch.nn.Linear(hidden, hidden),\n",
        "    torch.nn.ReLU(),\n",
        "    torch.nn.Linear(hidden, hidden),\n",
        "    torch.nn.ReLU(),\n",
        "    torch.nn.Linear(hidden, out)\n",
        ")"
      ],
      "execution_count": null,
      "outputs": []
    },
    {
      "cell_type": "code",
      "metadata": {
        "id": "h4vWwErZ2bq0"
      },
      "source": [
        "loss_fn = torch.nn.MSELoss(reduction='sum')"
      ],
      "execution_count": null,
      "outputs": []
    },
    {
      "cell_type": "code",
      "metadata": {
        "id": "ZVCiONzO2bq0"
      },
      "source": [
        "# Generate some training data based on the true function\n",
        "x = torch.tensor(df['Secs'].values.astype(np.float32).reshape(len(df),1))\n",
        "y = torch.tensor(df['Watts'].values.astype(np.float32).reshape(len(df),1))\n"
      ],
      "execution_count": null,
      "outputs": []
    },
    {
      "cell_type": "code",
      "metadata": {
        "id": "QW_BJjLZ2bq1"
      },
      "source": [
        "optim = torch.optim.Adam(model.parameters(), lr = lr)"
      ],
      "execution_count": null,
      "outputs": []
    },
    {
      "cell_type": "code",
      "metadata": {
        "id": "Uvsvg_Up2bq1",
        "outputId": "62c43546-d9a7-4c3d-df42-1ca270443d9b"
      },
      "source": [
        "for i in range(30001):\n",
        "    y_pred = model(x)\n",
        "    loss = loss_fn(y_pred, y)\n",
        "    if (i%5000)==0:\n",
        "        print('Epoch {}, Loss: {:2f}'.format(i, loss.item()))\n",
        "    \n",
        "    optim.zero_grad()\n",
        "    loss.backward()\n",
        "    optim.step()"
      ],
      "execution_count": null,
      "outputs": [
        {
          "output_type": "stream",
          "text": [
            "Epoch 0, Loss: 237950.265625\n",
            "Epoch 5000, Loss: 102856.562500\n",
            "Epoch 10000, Loss: 47019.417969\n",
            "Epoch 15000, Loss: 71219.937500\n",
            "Epoch 20000, Loss: 68499.187500\n",
            "Epoch 25000, Loss: 40138.292969\n",
            "Epoch 30000, Loss: 39972.632812\n"
          ],
          "name": "stdout"
        }
      ]
    },
    {
      "cell_type": "code",
      "metadata": {
        "id": "8lyOqWmq2bq1",
        "outputId": "c4759709-ac5d-4ccf-d97b-4829ca126f23"
      },
      "source": [
        "model.eval()"
      ],
      "execution_count": null,
      "outputs": [
        {
          "output_type": "execute_result",
          "data": {
            "text/plain": [
              "Sequential(\n",
              "  (0): Linear(in_features=1, out_features=12, bias=True)\n",
              "  (1): ReLU()\n",
              "  (2): Linear(in_features=12, out_features=12, bias=True)\n",
              "  (3): ReLU()\n",
              "  (4): Linear(in_features=12, out_features=12, bias=True)\n",
              "  (5): ReLU()\n",
              "  (6): Linear(in_features=12, out_features=1, bias=True)\n",
              ")"
            ]
          },
          "metadata": {
            "tags": []
          },
          "execution_count": 32
        }
      ]
    },
    {
      "cell_type": "code",
      "metadata": {
        "id": "VLPGxXqe2bq2"
      },
      "source": [
        "predicted_tensor = model(x)\n",
        "predicted = predicted_tensor.detach().numpy()"
      ],
      "execution_count": null,
      "outputs": []
    },
    {
      "cell_type": "code",
      "metadata": {
        "id": "drGHhaIh2bq2",
        "outputId": "eb6d4b5e-71a3-4065-cd70-eca3699b532e"
      },
      "source": [
        "plt.figure(figsize=(15,9))\n",
        "plt.plot(x, y, label='orig', c='b')\n",
        "plt.plot(x, predicted, label='predict', c='r')\n",
        "plt.xscale('log')"
      ],
      "execution_count": null,
      "outputs": [
        {
          "output_type": "display_data",
          "data": {
            "image/png": "[encoded data removed]",
            "text/plain": [
              "<Figure size 1080x648 with 1 Axes>"
            ]
          },
          "metadata": {
            "tags": [],
            "needs_background": "light"
          }
        }
      ]
    },
    {
      "cell_type": "code",
      "metadata": {
        "id": "wra0Im0_2bq3",
        "outputId": "6b81f29b-6edb-4dc7-9412-deddcdf748c2"
      },
      "source": [
        "# What is the predicted power at 10 mins\n",
        "test = torch.tensor(np.array([[600,]], dtype=np.float32))\n",
        "predict = model(test)\n",
        "predict"
      ],
      "execution_count": null,
      "outputs": [
        {
          "output_type": "execute_result",
          "data": {
            "text/plain": [
              "tensor([[266.2837]], grad_fn=<AddmmBackward>)"
            ]
          },
          "metadata": {
            "tags": []
          },
          "execution_count": 35
        }
      ]
    },
    {
      "cell_type": "markdown",
      "metadata": {
        "id": "kgCbnWF52bq3"
      },
      "source": [
        "## 3rd option: Use Pytorch autograd to fit the power curve"
      ]
    },
    {
      "cell_type": "code",
      "metadata": {
        "id": "baFxUfrl2bq3"
      },
      "source": [
        "def power(x):\n",
        "    p = frc / x * (1.0 - np.exp(-x / tau)) + ftp * (1 - np.exp(-x / tau2))\n",
        "    p -= np.maximum(0, a * np.log(x/tmap))\n",
        "    return p"
      ],
      "execution_count": null,
      "outputs": []
    },
    {
      "cell_type": "code",
      "metadata": {
        "id": "BX68CmsV2bq3"
      },
      "source": [
        "frc = torch.ones(1, dtype=torch.float, requires_grad=True)\n",
        "ftp = torch.ones(1, dtype=torch.float, requires_grad=True)\n",
        "tau = 14.7\n",
        "tau2 = 40\n",
        "tmap = 1450\n",
        "a = 22"
      ],
      "execution_count": null,
      "outputs": []
    },
    {
      "cell_type": "code",
      "metadata": {
        "id": "yF64IYAu2bq3"
      },
      "source": [
        "optim = torch.optim.Adam([frc, ftp], lr = 0.1)"
      ],
      "execution_count": null,
      "outputs": []
    },
    {
      "cell_type": "code",
      "metadata": {
        "id": "-erqCyL92bq4"
      },
      "source": [
        "loss_fn = torch.nn.MSELoss(reduction='sum')"
      ],
      "execution_count": null,
      "outputs": []
    },
    {
      "cell_type": "code",
      "metadata": {
        "id": "7dSr34Ud2bq4"
      },
      "source": [
        "# Generate some training data based on the true function\n",
        "x = torch.tensor(df['Secs'].values.astype(np.float32).reshape(len(df),1))\n",
        "y = torch.tensor(df['Watts'].values.astype(np.float32).reshape(len(df),1))"
      ],
      "execution_count": null,
      "outputs": []
    },
    {
      "cell_type": "code",
      "metadata": {
        "id": "0XOeKqgx2bq4",
        "outputId": "a3b01a82-db84-4d26-8126-b16adcc42b71"
      },
      "source": [
        "for i in range(100000):\n",
        "    y_pred = power(x)\n",
        "    loss = loss_fn(y_pred, y)\n",
        "    if (i%10000)==0:\n",
        "        print('Epoch {}, Loss: {:2f}'.format(i, loss.item()))\n",
        "    \n",
        "    optim.zero_grad()\n",
        "    loss.backward()\n",
        "    optim.step()"
      ],
      "execution_count": null,
      "outputs": [
        {
          "output_type": "stream",
          "text": [
            "Epoch 0, Loss: 401057.750000\n",
            "Epoch 10000, Loss: 170197.375000\n",
            "Epoch 20000, Loss: 58102.812500\n",
            "Epoch 30000, Loss: 41191.031250\n",
            "Epoch 40000, Loss: 41191.027344\n",
            "Epoch 50000, Loss: 41191.046875\n",
            "Epoch 60000, Loss: 41191.042969\n",
            "Epoch 70000, Loss: 41191.054688\n",
            "Epoch 80000, Loss: 41191.039062\n",
            "Epoch 90000, Loss: 41191.046875\n"
          ],
          "name": "stdout"
        }
      ]
    },
    {
      "cell_type": "code",
      "metadata": {
        "id": "S1-yWE7V2bq4",
        "outputId": "08066583-736e-48ab-9d31-f689151defcf"
      },
      "source": [
        "frc, ftp"
      ],
      "execution_count": null,
      "outputs": [
        {
          "output_type": "execute_result",
          "data": {
            "text/plain": [
              "(tensor([12181.4600], requires_grad=True),\n",
              " tensor([247.6583], requires_grad=True))"
            ]
          },
          "metadata": {
            "tags": []
          },
          "execution_count": 46
        }
      ]
    },
    {
      "cell_type": "code",
      "metadata": {
        "id": "u8xToeTu2bq5"
      },
      "source": [
        "predicted_tensor = power(x)\n",
        "predicted = predicted_tensor.detach().numpy()"
      ],
      "execution_count": null,
      "outputs": []
    },
    {
      "cell_type": "code",
      "metadata": {
        "id": "SVmPN2UO2bq5",
        "outputId": "64974824-2401-4c05-faee-5c516577a8a2"
      },
      "source": [
        "plt.figure(figsize=(10,6))\n",
        "plt.plot(x, y, label='orig', c='b')\n",
        "plt.plot(x, predicted, label='predict', c='r')\n",
        "plt.xscale('log')"
      ],
      "execution_count": null,
      "outputs": [
        {
          "output_type": "display_data",
          "data": {
            "image/png": "[encoded data removed]",
            "text/plain": [
              "<Figure size 720x432 with 1 Axes>"
            ]
          },
          "metadata": {
            "tags": [],
            "needs_background": "light"
          }
        }
      ]
    },
    {
      "cell_type": "code",
      "metadata": {
        "id": "D3LtyRDh2bq5"
      },
      "source": [
        ""
      ],
      "execution_count": null,
      "outputs": []
    }
  ]
}
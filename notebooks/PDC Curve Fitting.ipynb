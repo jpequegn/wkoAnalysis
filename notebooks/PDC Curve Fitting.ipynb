{
 "cells": [
  {
   "cell_type": "markdown",
   "metadata": {},
   "source": [
    "## Bike / Run Power Duration Curve fitting"
   ]
  },
  {
   "cell_type": "code",
   "execution_count": 1,
   "metadata": {},
   "outputs": [],
   "source": [
    "!pip install -q torch torchvision numpy pandas matplotlib lmfit"
   ]
  },
  {
   "cell_type": "code",
   "execution_count": 2,
   "metadata": {},
   "outputs": [],
   "source": [
    "import torch\n",
    "import numpy as np\n",
    "import pandas as pd\n",
    "import matplotlib.pyplot as plt\n",
    "from lmfit import Model, Parameters"
   ]
  },
  {
   "cell_type": "markdown",
   "metadata": {},
   "source": [
    "# Import the data from a CSV (Secs, Watts)"
   ]
  },
  {
   "cell_type": "code",
   "execution_count": 25,
   "metadata": {},
   "outputs": [],
   "source": [
    "df = pd.read_csv(\"../data/mmpcurve-run-0310.csv\")"
   ]
  },
  {
   "cell_type": "markdown",
   "metadata": {},
   "source": [
    "## Let's try to implement the WKO model\n",
    "The model seems to follow the following formula: P(t) = FRC / t * (1-exp(-t/tau)) + FTP * (1-exp(-t/tau2))\n",
    "       [-a * Ln(t/TTE) if t>TTE]\n",
    "       \n",
    "       \n",
    "FRC: Functional Reserve Capacity\n",
    "\n",
    "FTP: Functional Threshold Power\n",
    "\n",
    "TTE: Time To Exhaustion\n",
    "\n",
    "Other parameters have less direct traceability / meaning but lim(tau, t->0) is close to FRC/Pmax"
   ]
  },
  {
   "cell_type": "markdown",
   "metadata": {},
   "source": [
    "## 1st option: Using LMFIT"
   ]
  },
  {
   "cell_type": "code",
   "execution_count": 26,
   "metadata": {},
   "outputs": [],
   "source": [
    "def power_curve(x, frc, ftp, tte, tau, tau2, a):\n",
    "    p = frc / x * (1.0 - np.exp(-x / tau)) + ftp * (1 - np.exp(-x / tau2))\n",
    "    p -= np.maximum(0, a * np.log(x / tte))\n",
    "    return p"
   ]
  },
  {
   "cell_type": "code",
   "execution_count": 27,
   "metadata": {},
   "outputs": [],
   "source": [
    "def fit_curve(df_x, df_y):\n",
    "\n",
    "    gmodel = Model(power_curve)\n",
    "    params = Parameters()\n",
    "    params.add('frc', value=5000, min=1, max=20000)\n",
    "    params.add('ftp', value=200, min=150, max=400)\n",
    "    params.add('tte', value=1700, min=1200)\n",
    "    params.add('tau', value=12, min=5, max=20)\n",
    "    params.add('tau2', value=30, min=10)\n",
    "    params.add('a', value=10, min=10, max=200)\n",
    "    \n",
    "    result = gmodel.fit(df_y, params, x=df_x)\n",
    "    fit = power_curve(df_x, result.best_values['frc'], result.best_values['ftp'], \n",
    "                  result.best_values['tte'], result.best_values['tau'],\n",
    "                  result.best_values['tau2'], result.best_values['a'])\n",
    "\n",
    "    return result, fit"
   ]
  },
  {
   "cell_type": "code",
   "execution_count": 28,
   "metadata": {},
   "outputs": [],
   "source": [
    "df_x = df['Secs']\n",
    "df_y = df['Watts']"
   ]
  },
  {
   "cell_type": "code",
   "execution_count": 29,
   "metadata": {},
   "outputs": [
    {
     "name": "stdout",
     "output_type": "stream",
     "text": [
      "parameter names: ['frc', 'ftp', 'tte', 'tau', 'tau2', 'a']\n",
      "independent variables: ['x']\n"
     ]
    }
   ],
   "source": [
    "gmodel = Model(power_curve)\n",
    "print('parameter names: {}'.format(gmodel.param_names))\n",
    "print('independent variables: {}'.format(gmodel.independent_vars))"
   ]
  },
  {
   "cell_type": "code",
   "execution_count": 30,
   "metadata": {},
   "outputs": [
    {
     "data": {
      "text/plain": [
       "{'frc': 7315.142507964906,\n",
       " 'ftp': 253.62542003903178,\n",
       " 'tte': 1206.3018188488986,\n",
       " 'tau': 19.997530340040974,\n",
       " 'tau2': 32.61808351340889,\n",
       " 'a': 12.662092311504631}"
      ]
     },
     "execution_count": 30,
     "metadata": {},
     "output_type": "execute_result"
    }
   ],
   "source": [
    "result, fit = fit_curve(df_x, df_y)\n",
    "result.best_values"
   ]
  },
  {
   "cell_type": "code",
   "execution_count": 31,
   "metadata": {},
   "outputs": [],
   "source": [
    "%matplotlib widget"
   ]
  },
  {
   "cell_type": "code",
   "execution_count": 32,
   "metadata": {
    "scrolled": true
   },
   "outputs": [
    {
     "data": {
      "application/vnd.jupyter.widget-view+json": {
       "model_id": "bd46aecc11d0405a9dff6f8251c076fe",
       "version_major": 2,
       "version_minor": 0
      },
      "text/plain": [
       "Canvas(toolbar=Toolbar(toolitems=[('Home', 'Reset original view', 'home', 'home'), ('Back', 'Back to previous …"
      ]
     },
     "metadata": {},
     "output_type": "display_data"
    }
   ],
   "source": [
    "plt.figure(figsize=(10,6))\n",
    "plt.plot(df_x, df_y, label='MMP')\n",
    "plt.plot(df_x, fit, label='PDC')\n",
    "plt.legend()\n",
    "plt.grid(True)\n",
    "plt.xscale('log')"
   ]
  },
  {
   "cell_type": "code",
   "execution_count": 33,
   "metadata": {},
   "outputs": [
    {
     "data": {
      "application/vnd.jupyter.widget-view+json": {
       "model_id": "3673112dfca2417c8aa08a3b0d9c6378",
       "version_major": 2,
       "version_minor": 0
      },
      "text/plain": [
       "Canvas(toolbar=Toolbar(toolitems=[('Home', 'Reset original view', 'home', 'home'), ('Back', 'Back to previous …"
      ]
     },
     "metadata": {},
     "output_type": "display_data"
    }
   ],
   "source": [
    "plt.ion()\n",
    "plt.figure(figsize=(10,6))\n",
    "# fig, ax = plt.subplots()\n",
    "plt.plot(df_x, result.residual, label='residuals')\n",
    "plt.grid(True)\n",
    "plt.title('Normalized residuals')\n",
    "plt.legend()\n",
    "plt.xscale('log')"
   ]
  },
  {
   "cell_type": "markdown",
   "metadata": {},
   "source": [
    "# What-if Analysis"
   ]
  },
  {
   "cell_type": "code",
   "execution_count": 34,
   "metadata": {},
   "outputs": [],
   "source": [
    "def addNewBest(df, sec, watt):\n",
    "    newbest = (df['Secs']<sec) & (df['Watts']<watt)\n",
    "    df.loc[newbest, \"Watts\"] = watt"
   ]
  },
  {
   "cell_type": "code",
   "execution_count": 53,
   "metadata": {},
   "outputs": [],
   "source": [
    "df_temp = df.copy(deep=True)"
   ]
  },
  {
   "cell_type": "code",
   "execution_count": 63,
   "metadata": {},
   "outputs": [],
   "source": [
    "# Add some new bests to the MMP curve - then calculate the impact on FRC, FTP and TTE\n",
    "# addNewBest(df_temp, 30, 480)\n",
    "# addNewBest(df_temp, 60, 380)\n",
    "# addNewBest(df_temp, 1200, 262)\n",
    "addNewBest(df_temp,1800, 263)"
   ]
  },
  {
   "cell_type": "code",
   "execution_count": 64,
   "metadata": {},
   "outputs": [
    {
     "data": {
      "application/vnd.jupyter.widget-view+json": {
       "model_id": "0f255a322e864f32b4b140d384b2990e",
       "version_major": 2,
       "version_minor": 0
      },
      "text/plain": [
       "Canvas(toolbar=Toolbar(toolitems=[('Home', 'Reset original view', 'home', 'home'), ('Back', 'Back to previous …"
      ]
     },
     "metadata": {},
     "output_type": "display_data"
    }
   ],
   "source": [
    "plt.figure(figsize=(10,6))\n",
    "plt.plot(df_x, df['Watts'], label='MMP', color='r')\n",
    "plt.plot(df_x, fit, label='PDC', color='b')\n",
    "plt.plot(df_x, df_temp['Watts'], label='Scenario', color='g')\n",
    "plt.grid(True)\n",
    "plt.legend()\n",
    "plt.xscale('log')"
   ]
  },
  {
   "cell_type": "code",
   "execution_count": 65,
   "metadata": {},
   "outputs": [
    {
     "data": {
      "text/plain": [
       "({'frc': 7315.142507964906,\n",
       "  'ftp': 253.62542003903178,\n",
       "  'tte': 1206.3018188488986,\n",
       "  'tau': 19.997530340040974,\n",
       "  'tau2': 32.61808351340889,\n",
       "  'a': 12.662092311504631},\n",
       " {'frc': 7191.14428942228,\n",
       "  'ftp': 255.04753305970027,\n",
       "  'tte': 1580.7935016872368,\n",
       "  'tau': 19.65672298544331,\n",
       "  'tau2': 32.32263192066122,\n",
       "  'a': 19.42424463076948})"
      ]
     },
     "execution_count": 65,
     "metadata": {},
     "output_type": "execute_result"
    }
   ],
   "source": [
    "result_scen, fit_scen = fit_curve(df_temp['Secs'], df_temp['Watts'])\n",
    "result.best_values, result_scen.best_values"
   ]
  },
  {
   "cell_type": "code",
   "execution_count": 66,
   "metadata": {},
   "outputs": [
    {
     "data": {
      "application/vnd.jupyter.widget-view+json": {
       "model_id": "70cf3b2e04cf435fb6b48cf3777ca530",
       "version_major": 2,
       "version_minor": 0
      },
      "text/plain": [
       "Canvas(toolbar=Toolbar(toolitems=[('Home', 'Reset original view', 'home', 'home'), ('Back', 'Back to previous …"
      ]
     },
     "metadata": {},
     "output_type": "display_data"
    }
   ],
   "source": [
    "plt.figure(figsize=(10,6))\n",
    "plt.plot(df_temp['Secs'], df_temp['Watts'], label='MMP')\n",
    "plt.plot(df_temp['Secs'], fit_scen, label='PDC')\n",
    "plt.legend()\n",
    "plt.xscale('log')"
   ]
  },
  {
   "cell_type": "markdown",
   "metadata": {},
   "source": [
    "## 2nd option: Approximate the PDC with a FC neural net\n",
    "\n",
    "Basic implementation in Pytorch"
   ]
  },
  {
   "cell_type": "code",
   "execution_count": 43,
   "metadata": {},
   "outputs": [],
   "source": [
    "inp = 1\n",
    "hidden = 12\n",
    "out = 1\n",
    "lr = 1e-3"
   ]
  },
  {
   "cell_type": "code",
   "execution_count": 44,
   "metadata": {},
   "outputs": [],
   "source": [
    "model = torch.nn.Sequential(\n",
    "    torch.nn.Linear(inp, hidden),\n",
    "    torch.nn.ReLU(),\n",
    "    torch.nn.Linear(hidden, hidden),\n",
    "    torch.nn.ReLU(),\n",
    "    torch.nn.Linear(hidden, hidden),\n",
    "    torch.nn.ReLU(),\n",
    "    torch.nn.Linear(hidden, out)\n",
    ")"
   ]
  },
  {
   "cell_type": "code",
   "execution_count": 45,
   "metadata": {},
   "outputs": [],
   "source": [
    "loss_fn = torch.nn.MSELoss(reduction='sum')"
   ]
  },
  {
   "cell_type": "code",
   "execution_count": 46,
   "metadata": {},
   "outputs": [],
   "source": [
    "# Generate some training data based on the true function\n",
    "x = torch.tensor(df['Secs'].values.astype(np.float32).reshape(len(df),1))\n",
    "y = torch.tensor(df['Watts'].values.astype(np.float32).reshape(len(df),1))\n"
   ]
  },
  {
   "cell_type": "code",
   "execution_count": 47,
   "metadata": {},
   "outputs": [],
   "source": [
    "optim = torch.optim.Adam(model.parameters(), lr = lr)"
   ]
  },
  {
   "cell_type": "code",
   "execution_count": 48,
   "metadata": {},
   "outputs": [
    {
     "name": "stdout",
     "output_type": "stream",
     "text": [
      "Epoch 0, Loss: 20542222.000000\n",
      "Epoch 5000, Loss: 40856.015625\n",
      "Epoch 10000, Loss: 26641.027344\n",
      "Epoch 15000, Loss: 10072.352539\n",
      "Epoch 20000, Loss: 7200.448242\n",
      "Epoch 25000, Loss: 12418.857422\n",
      "Epoch 30000, Loss: 20437.033203\n"
     ]
    }
   ],
   "source": [
    "for i in range(30001):\n",
    "    y_pred = model(x)\n",
    "    loss = loss_fn(y_pred, y)\n",
    "    if (i%5000)==0:\n",
    "        print('Epoch {}, Loss: {:2f}'.format(i, loss.item()))\n",
    "    \n",
    "    optim.zero_grad()\n",
    "    loss.backward()\n",
    "    optim.step()"
   ]
  },
  {
   "cell_type": "code",
   "execution_count": 49,
   "metadata": {},
   "outputs": [
    {
     "data": {
      "text/plain": [
       "Sequential(\n",
       "  (0): Linear(in_features=1, out_features=12, bias=True)\n",
       "  (1): ReLU()\n",
       "  (2): Linear(in_features=12, out_features=12, bias=True)\n",
       "  (3): ReLU()\n",
       "  (4): Linear(in_features=12, out_features=12, bias=True)\n",
       "  (5): ReLU()\n",
       "  (6): Linear(in_features=12, out_features=1, bias=True)\n",
       ")"
      ]
     },
     "execution_count": 49,
     "metadata": {},
     "output_type": "execute_result"
    }
   ],
   "source": [
    "model.eval()"
   ]
  },
  {
   "cell_type": "code",
   "execution_count": 50,
   "metadata": {},
   "outputs": [],
   "source": [
    "predicted_tensor = model(x)\n",
    "predicted = predicted_tensor.detach().numpy()"
   ]
  },
  {
   "cell_type": "code",
   "execution_count": 51,
   "metadata": {},
   "outputs": [
    {
     "data": {
      "image/png": "[encoded data removed]",
      "text/plain": [
       "<Figure size 1080x648 with 1 Axes>"
      ]
     },
     "metadata": {
      "needs_background": "light"
     },
     "output_type": "display_data"
    }
   ],
   "source": [
    "plt.figure(figsize=(15,9))\n",
    "plt.plot(x, y, label='orig', c='b')\n",
    "plt.plot(x, predicted, label='predict', c='r')\n",
    "plt.xscale('log')"
   ]
  },
  {
   "cell_type": "code",
   "execution_count": 52,
   "metadata": {},
   "outputs": [
    {
     "data": {
      "text/plain": [
       "tensor([[258.9333]], grad_fn=<AddmmBackward>)"
      ]
     },
     "execution_count": 52,
     "metadata": {},
     "output_type": "execute_result"
    }
   ],
   "source": [
    "# What is the predicted power at 10 mins\n",
    "test = torch.tensor(np.array([[600,]], dtype=np.float32))\n",
    "predict = model(test)\n",
    "predict"
   ]
  },
  {
   "cell_type": "markdown",
   "metadata": {},
   "source": [
    "## 3rd option: Use Pytorch autograd to fit the power curve"
   ]
  },
  {
   "cell_type": "code",
   "execution_count": 53,
   "metadata": {},
   "outputs": [],
   "source": [
    "def power(x):\n",
    "    p = frc / x * (1.0 - np.exp(-x / tau)) + ftp * (1 - np.exp(-x / tau2))\n",
    "    p -= np.maximum(0, a * np.log(x/tmap))\n",
    "    return p"
   ]
  },
  {
   "cell_type": "code",
   "execution_count": 70,
   "metadata": {},
   "outputs": [],
   "source": [
    "frc = torch.ones(1, dtype=torch.float, requires_grad=True)\n",
    "ftp = torch.ones(1, dtype=torch.float, requires_grad=True)\n",
    "tau = 14.7\n",
    "tau2 = 40\n",
    "tmap = 1450\n",
    "a = 22"
   ]
  },
  {
   "cell_type": "code",
   "execution_count": 71,
   "metadata": {},
   "outputs": [],
   "source": [
    "optim = torch.optim.Adam([frc, ftp], lr = 0.1)"
   ]
  },
  {
   "cell_type": "code",
   "execution_count": 72,
   "metadata": {},
   "outputs": [],
   "source": [
    "loss_fn = torch.nn.MSELoss(reduction='sum')"
   ]
  },
  {
   "cell_type": "code",
   "execution_count": 73,
   "metadata": {},
   "outputs": [],
   "source": [
    "# Generate some training data based on the true function\n",
    "x = torch.tensor(df['Secs'].values.astype(np.float32).reshape(len(df),1))\n",
    "y = torch.tensor(df['Watts'].values.astype(np.float32).reshape(len(df),1))"
   ]
  },
  {
   "cell_type": "code",
   "execution_count": 78,
   "metadata": {},
   "outputs": [
    {
     "name": "stdout",
     "output_type": "stream",
     "text": [
      "Epoch 0, Loss: 304855.375000\n",
      "Epoch 10000, Loss: 127372.015625\n",
      "Epoch 20000, Loss: 64022.234375\n",
      "Epoch 30000, Loss: 62193.449219\n",
      "Epoch 40000, Loss: 62193.437500\n",
      "Epoch 50000, Loss: 62193.453125\n",
      "Epoch 60000, Loss: 62193.464844\n",
      "Epoch 70000, Loss: 62193.449219\n",
      "Epoch 80000, Loss: 62193.445312\n",
      "Epoch 90000, Loss: 62193.457031\n"
     ]
    }
   ],
   "source": [
    "for i in range(100000):\n",
    "    y_pred = power(x)\n",
    "    loss = loss_fn(y_pred, y)\n",
    "    if (i%10000)==0:\n",
    "        print('Epoch {}, Loss: {:2f}'.format(i, loss.item()))\n",
    "    \n",
    "    optim.zero_grad()\n",
    "    loss.backward()\n",
    "    optim.step()"
   ]
  },
  {
   "cell_type": "code",
   "execution_count": 79,
   "metadata": {},
   "outputs": [
    {
     "data": {
      "text/plain": [
       "(tensor([11742.1250], requires_grad=True),\n",
       " tensor([241.5190], requires_grad=True))"
      ]
     },
     "execution_count": 79,
     "metadata": {},
     "output_type": "execute_result"
    }
   ],
   "source": [
    "frc, ftp"
   ]
  },
  {
   "cell_type": "code",
   "execution_count": 80,
   "metadata": {},
   "outputs": [],
   "source": [
    "predicted_tensor = power(x)\n",
    "predicted = predicted_tensor.detach().numpy()"
   ]
  },
  {
   "cell_type": "code",
   "execution_count": 81,
   "metadata": {},
   "outputs": [
    {
     "data": {
      "image/png": "[encoded data removed]",
      "text/plain": [
       "<Figure size 720x432 with 1 Axes>"
      ]
     },
     "metadata": {
      "needs_background": "light"
     },
     "output_type": "display_data"
    }
   ],
   "source": [
    "plt.figure(figsize=(10,6))\n",
    "plt.plot(x, y, label='orig', c='b')\n",
    "plt.plot(x, predicted, label='predict', c='r')\n",
    "plt.xscale('log')"
   ]
  },
  {
   "cell_type": "code",
   "execution_count": null,
   "metadata": {},
   "outputs": [],
   "source": []
  }
 ],
 "metadata": {
  "kernelspec": {
   "display_name": "Python 3",
   "language": "python",
   "name": "python3"
  },
  "language_info": {
   "codemirror_mode": {
    "name": "ipython",
    "version": 3
   },
   "file_extension": ".py",
   "mimetype": "text/x-python",
   "name": "python",
   "nbconvert_exporter": "python",
   "pygments_lexer": "ipython3",
   "version": "3.7.4"
  }
 },
 "nbformat": 4,
 "nbformat_minor": 4
}

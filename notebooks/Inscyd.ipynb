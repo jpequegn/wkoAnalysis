{
  "nbformat": 4,
  "nbformat_minor": 0,
  "metadata": {
    "kernelspec": {
      "display_name": "Python 3",
      "language": "python",
      "name": "python3"
    },
    "language_info": {
      "codemirror_mode": {
        "name": "ipython",
        "version": 3
      },
      "file_extension": ".py",
      "mimetype": "text/x-python",
      "name": "python",
      "nbconvert_exporter": "python",
      "pygments_lexer": "ipython3",
      "version": "3.7.4"
    },
    "colab": {
      "name": "Inscyd.ipynb",
      "provenance": [],
      "include_colab_link": true
    }
  },
  "cells": [
    {
      "cell_type": "markdown",
      "metadata": {
        "id": "view-in-github",
        "colab_type": "text"
      },
      "source": [
        "<a href=\"https://colab.research.google.com/github/jpequegn/wkoAnalysis/blob/master/notebooks/Inscyd.ipynb\" target=\"_parent\"><img src=\"https://colab.research.google.com/assets/colab-badge.svg\" alt=\"Open In Colab\"/></a>"
      ]
    },
    {
      "cell_type": "code",
      "metadata": {
        "id": "ETlEpm1bTWj4",
        "colab_type": "code",
        "colab": {}
      },
      "source": [
        "import matplotlib.pyplot as plt\n",
        "import numpy as np"
      ],
      "execution_count": 1,
      "outputs": []
    },
    {
      "cell_type": "code",
      "metadata": {
        "id": "M7AHPVlCTWj7",
        "colab_type": "code",
        "colab": {}
      },
      "source": [
        "#Results from Inscyd\n",
        "weight = 65\n",
        "vo2max = 60.6\n",
        "vlamax = 0.31\n",
        "ftp = 274"
      ],
      "execution_count": 2,
      "outputs": []
    },
    {
      "cell_type": "code",
      "metadata": {
        "id": "PHrD-DmLTWj9",
        "colab_type": "code",
        "colab": {}
      },
      "source": [
        "t = np.arange(0, 350, 1) # "
      ],
      "execution_count": 3,
      "outputs": []
    },
    {
      "cell_type": "markdown",
      "metadata": {
        "id": "t2aylvnpTWj_",
        "colab_type": "text"
      },
      "source": [
        "## Approximate the lack of pyruvate curve - wild guess"
      ]
    },
    {
      "cell_type": "code",
      "metadata": {
        "id": "wMmXiGMYTWj_",
        "colab_type": "code",
        "colab": {}
      },
      "source": [
        "def getPyruCurve(vlamax, vo2max, ftp):\n",
        "    # Inscyd videos say that this portion is pretty much linear. It may be anchored around vlamax?\n",
        "    pyru = vlamax + 0.0044 *(t - 50) # Assumes no lactate produced below 50W, 0.004 is calibrated to the report\n",
        "    # Calibrate to reach a minima at Threshold\n",
        "    factor = (vlamax + 0.0044*(ftp-50)) / np.exp(ftp/vo2max)\n",
        "    # lactate accumulation is likely exponential. Maybe factored by vo2max?\n",
        "    lact = np.exp(t/vo2max)*factor\n",
        "    s = np.maximum(pyru - lact, 0)\n",
        "    v = np.maximum(lact - pyru, 0)\n",
        "    return s+v"
      ],
      "execution_count": 4,
      "outputs": []
    },
    {
      "cell_type": "code",
      "metadata": {
        "id": "YqDTkTCHTWkC",
        "colab_type": "code",
        "colab": {
          "base_uri": "https://localhost:8080/",
          "height": 312
        },
        "outputId": "4f79e53c-66a3-4014-91f5-07ffbb49ee40"
      },
      "source": [
        "z = getPyruCurve(vlamax, vo2max, ftp)\n",
        "x = getPyruCurve(0.28, 63, 295)\n",
        "y = getPyruCurve(0.31, 63, 286)\n",
        "plt.plot(t, z, label='Current', linestyle='solid')\n",
        "plt.plot(t, y, label='VO2 Push', linestyle='dotted')\n",
        "plt.plot(t, x, label='VO2+VLa Push', linestyle='dashed')\n",
        "plt.xlabel('Power (W)')\n",
        "plt.ylabel('mmol/l/min')\n",
        "plt.title('Lack of pyruvate / Lactate accumulation')\n",
        "plt.grid(True)\n",
        "plt.margins(0)\n",
        "plt.legend()"
      ],
      "execution_count": 5,
      "outputs": [
        {
          "output_type": "execute_result",
          "data": {
            "text/plain": [
              "<matplotlib.legend.Legend at 0x7f5cef796b00>"
            ]
          },
          "metadata": {
            "tags": []
          },
          "execution_count": 5
        },
        {
          "output_type": "display_data",
          "data": {
            "image/png": "[encoded data removed]",
            "text/plain": [
              "<Figure size 432x288 with 1 Axes>"
            ]
          },
          "metadata": {
            "tags": [],
            "needs_background": "light"
          }
        }
      ]
    },
    {
      "cell_type": "markdown",
      "metadata": {
        "id": "aHHagZKOTWkE",
        "colab_type": "text"
      },
      "source": [
        "## Playing with scenarios - VO2Max -> 63, VLaMax -> 0.28"
      ]
    },
    {
      "cell_type": "code",
      "metadata": {
        "id": "nX29fj4iTWkF",
        "colab_type": "code",
        "colab": {}
      },
      "source": [
        "vlamax = 0.31\n",
        "vo2max = 60.6\n",
        "ftp = 255"
      ],
      "execution_count": 20,
      "outputs": []
    },
    {
      "cell_type": "code",
      "metadata": {
        "id": "Zl-2tUIYTWkG",
        "colab_type": "code",
        "colab": {}
      },
      "source": [
        "# Rebase the approximated factor\n",
        "factor = (vlamax+0.0044*(ftp-50))/np.exp(ftp/vo2max)"
      ],
      "execution_count": 21,
      "outputs": []
    },
    {
      "cell_type": "code",
      "metadata": {
        "id": "pI8zcWrjTWkI",
        "colab_type": "code",
        "colab": {}
      },
      "source": [
        "def getReadings(watt):\n",
        "    pyru = vlamax + 0.0044*(watt-50)\n",
        "    lact = np.exp(watt/vo2max)*factor\n",
        "    return abs(pyru-lact)"
      ],
      "execution_count": 22,
      "outputs": []
    },
    {
      "cell_type": "code",
      "metadata": {
        "id": "4lkAE1RuTWkK",
        "colab_type": "code",
        "colab": {
          "base_uri": "https://localhost:8080/",
          "height": 34
        },
        "outputId": "8436cf6b-4d27-4097-94af-b30a56a47a1e"
      },
      "source": [
        "# Recovery window was set at 190~300 so lets check that based on the approximations\n",
        "print(getReadings(196),getReadings(350))"
      ],
      "execution_count": 9,
      "outputs": [
        {
          "output_type": "stream",
          "text": [
            "0.49460119056465957 4.1820227111065496\n"
          ],
          "name": "stdout"
        }
      ]
    },
    {
      "cell_type": "code",
      "metadata": {
        "id": "2iFFLmekTWkM",
        "colab_type": "code",
        "colab": {}
      },
      "source": [
        "def getPyruMax():\n",
        "    watt, currMax = 50, 0\n",
        "    while getReadings(watt)> currMax:\n",
        "        currMax = getReadings(watt)\n",
        "        watt +=1\n",
        "    return watt, currMax"
      ],
      "execution_count": 10,
      "outputs": []
    },
    {
      "cell_type": "code",
      "metadata": {
        "id": "ZZ07-ZtxTWkN",
        "colab_type": "code",
        "colab": {}
      },
      "source": [
        "def getLactShuttle(lact):\n",
        "    watt = ftp\n",
        "    while getReadings(watt)<lact:\n",
        "        watt +=1\n",
        "    return watt"
      ],
      "execution_count": 11,
      "outputs": []
    },
    {
      "cell_type": "code",
      "metadata": {
        "id": "ywJ6IzIVTl-n",
        "colab_type": "code",
        "colab": {}
      },
      "source": [
        "def estimate5MinPower(vo2max):\n",
        "  return (vo2max-7)/10.8 * weight"
      ],
      "execution_count": 12,
      "outputs": []
    },
    {
      "cell_type": "code",
      "metadata": {
        "id": "Z3_JpXl6TWkP",
        "colab_type": "code",
        "colab": {
          "base_uri": "https://localhost:8080/",
          "height": 34
        },
        "outputId": "d3350141-50b3-426e-a5a8-2282a6be3554"
      },
      "source": [
        "watt, lact = getPyruMax()\n",
        "lshigh = getLactShuttle(lact)\n",
        "print(watt, lshigh, lact)"
      ],
      "execution_count": 13,
      "outputs": [
        {
          "output_type": "stream",
          "text": [
            "164 282 0.5416308253817188\n"
          ],
          "name": "stdout"
        }
      ]
    },
    {
      "cell_type": "code",
      "metadata": {
        "id": "LoS9aC-qTWkR",
        "colab_type": "code",
        "colab": {
          "base_uri": "https://localhost:8080/",
          "height": 34
        },
        "outputId": "12ac71fb-7872-4830-fa70-0c1d4ec0295d"
      },
      "source": [
        "# Lactate shuttle window becomes\n",
        "print(\"This is the lactate shuttle window \" + str(watt) + \" - \" + str(lshigh))"
      ],
      "execution_count": 14,
      "outputs": [
        {
          "output_type": "stream",
          "text": [
            "This is the lactate shuttle window 164 - 282\n"
          ],
          "name": "stdout"
        }
      ]
    },
    {
      "cell_type": "code",
      "metadata": {
        "id": "yKfxCWM7TWkS",
        "colab_type": "code",
        "colab": {
          "base_uri": "https://localhost:8080/",
          "height": 34
        },
        "outputId": "768763bb-912f-4c09-c11c-02293e7d04f4"
      },
      "source": [
        "estimate5MinPower(65)"
      ],
      "execution_count": 40,
      "outputs": [
        {
          "output_type": "execute_result",
          "data": {
            "text/plain": [
              "349.0740740740741"
            ]
          },
          "metadata": {
            "tags": []
          },
          "execution_count": 40
        }
      ]
    },
    {
      "cell_type": "code",
      "metadata": {
        "id": "6GHp3mNk3wFv",
        "colab_type": "code",
        "colab": {
          "base_uri": "https://localhost:8080/",
          "height": 34
        },
        "outputId": "4b047c0d-4b0a-428d-bc3d-8ae263e3c294"
      },
      "source": [
        "# Power at Vo2max was 315W, FTP is 87% of vo2max\n",
        "# so if FTP as a % of vo2max remains stable then a 3 pt Vo2max increase should result in\n",
        "targetFTP = 274 + 0.87 * (estimate5MinPower(65) - estimate5MinPower(60.6))\n",
        "targetFTP"
      ],
      "execution_count": 39,
      "outputs": [
        {
          "output_type": "execute_result",
          "data": {
            "text/plain": [
              "297.0388888888889"
            ]
          },
          "metadata": {
            "tags": []
          },
          "execution_count": 39
        }
      ]
    },
    {
      "cell_type": "code",
      "metadata": {
        "id": "1FNaFtnKB_yV",
        "colab_type": "code",
        "colab": {
          "base_uri": "https://localhost:8080/",
          "height": 34
        },
        "outputId": "034b96fa-a464-47fe-e1ed-cf5908c892e3"
      },
      "source": [
        "# This matches quite close the Inscyd report, which would imply the explain of a -0.1 VLaMax impact\n",
        "VLa01 = (295 - 286)/3\n",
        "VLa01"
      ],
      "execution_count": 29,
      "outputs": [
        {
          "output_type": "execute_result",
          "data": {
            "text/plain": [
              "3.0"
            ]
          },
          "metadata": {
            "tags": []
          },
          "execution_count": 29
        }
      ]
    },
    {
      "cell_type": "code",
      "metadata": {
        "id": "M0cn7-X2Cx-T",
        "colab_type": "code",
        "colab": {}
      },
      "source": [
        "# FTP grows by 3W for every 0.01 VLaMax drop"
      ],
      "execution_count": null,
      "outputs": []
    }
  ]
}
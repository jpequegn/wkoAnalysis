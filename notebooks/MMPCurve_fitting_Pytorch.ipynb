{
  "nbformat": 4,
  "nbformat_minor": 0,
  "metadata": {
    "kernelspec": {
      "display_name": "Python 3",
      "language": "python",
      "name": "python3"
    },
    "language_info": {
      "codemirror_mode": {
        "name": "ipython",
        "version": 3
      },
      "file_extension": ".py",
      "mimetype": "text/x-python",
      "name": "python",
      "nbconvert_exporter": "python",
      "pygments_lexer": "ipython3",
      "version": "3.7.4"
    },
    "colab": {
      "name": "MMPCurve fitting - Pytorch.ipynb",
      "provenance": [],
      "include_colab_link": true
    }
  },
  "cells": [
    {
      "cell_type": "markdown",
      "metadata": {
        "id": "view-in-github",
        "colab_type": "text"
      },
      "source": [
        "<a href=\"https://colab.research.google.com/github/jpequegn/wkoAnalysis/blob/master/notebooks/MMPCurve_fitting_Pytorch.ipynb\" target=\"_parent\"><img src=\"https://colab.research.google.com/assets/colab-badge.svg\" alt=\"Open In Colab\"/></a>"
      ]
    },
    {
      "cell_type": "code",
      "metadata": {
        "id": "1YiDYIl4kdG7"
      },
      "source": [
        "import torch\n",
        "import numpy as np\n",
        "import pandas as pd"
      ],
      "execution_count": null,
      "outputs": []
    },
    {
      "cell_type": "code",
      "metadata": {
        "id": "hXcM5o-ikdHA"
      },
      "source": [
        "df = pd.read_csv(\"../data/mmpcurve.csv\")"
      ],
      "execution_count": null,
      "outputs": []
    },
    {
      "cell_type": "code",
      "metadata": {
        "id": "zLmQTDtwkdHA"
      },
      "source": [
        "inp = 1\n",
        "hidden = 16\n",
        "out = 1\n",
        "lr = 1e-3"
      ],
      "execution_count": null,
      "outputs": []
    },
    {
      "cell_type": "code",
      "metadata": {
        "id": "waUbZDbYkdHC"
      },
      "source": [
        "model = torch.nn.Sequential(\n",
        "    torch.nn.Linear(inp, hidden),\n",
        "    torch.nn.ReLU(),\n",
        "    torch.nn.Linear(hidden, hidden),\n",
        "    torch.nn.ReLU(),\n",
        "    torch.nn.Linear(hidden, hidden),\n",
        "    torch.nn.ReLU(),\n",
        "    torch.nn.Linear(hidden, out)\n",
        ")"
      ],
      "execution_count": null,
      "outputs": []
    },
    {
      "cell_type": "code",
      "metadata": {
        "id": "VA2hrm6nkdHC"
      },
      "source": [
        "loss_fn = torch.nn.MSELoss(reduction='sum')"
      ],
      "execution_count": null,
      "outputs": []
    },
    {
      "cell_type": "code",
      "metadata": {
        "id": "pFW7oFMekdHC"
      },
      "source": [
        "# Generate some training data based on the true function\n",
        "x = torch.tensor(df['Secs'].values.astype(np.float32).reshape(rows,1))\n",
        "y = torch.tensor(df['Watts'].values.astype(np.float32).reshape(rows,1))\n"
      ],
      "execution_count": null,
      "outputs": []
    },
    {
      "cell_type": "code",
      "metadata": {
        "id": "QoKIMQR-kdHC"
      },
      "source": [
        "optim = torch.optim.Adam(model.parameters(), lr = lr)"
      ],
      "execution_count": null,
      "outputs": []
    },
    {
      "cell_type": "code",
      "metadata": {
        "id": "dVY8v1jbkdHD",
        "outputId": "5936b1c3-46a8-4a8b-c2d2-a6c77234409d"
      },
      "source": [
        "for i in range(20000):\n",
        "    y_pred = model(x)\n",
        "    loss = loss_fn(y_pred, y)\n",
        "    if (i%1000)==0:\n",
        "        print(i, loss.item())\n",
        "    \n",
        "    optim.zero_grad()\n",
        "    loss.backward()\n",
        "    optim.step()"
      ],
      "execution_count": null,
      "outputs": [
        {
          "output_type": "stream",
          "text": [
            "0 25898892.0\n",
            "1000 1164209.875\n",
            "2000 283375.21875\n",
            "3000 119580.234375\n",
            "4000 68784.5\n",
            "5000 56626.6640625\n",
            "6000 22627.85546875\n",
            "7000 19542.962890625\n",
            "8000 14790.896484375\n",
            "9000 19860.443359375\n",
            "10000 88115.2734375\n",
            "11000 9463.345703125\n",
            "12000 11731.8310546875\n",
            "13000 8408.00390625\n",
            "14000 14595.5390625\n",
            "15000 12129.326171875\n",
            "16000 7676.76611328125\n",
            "17000 8061.59521484375\n",
            "18000 36475.28125\n",
            "19000 16796.49609375\n"
          ],
          "name": "stdout"
        }
      ]
    },
    {
      "cell_type": "code",
      "metadata": {
        "id": "-S5CMR-RkdHE"
      },
      "source": [
        "import matplotlib.pyplot as plt"
      ],
      "execution_count": null,
      "outputs": []
    },
    {
      "cell_type": "code",
      "metadata": {
        "id": "o0I7zL26kdHE"
      },
      "source": [
        "predicted_tensor = model(x)\n",
        "predicted = predicted_tensor.detach().numpy()"
      ],
      "execution_count": null,
      "outputs": []
    },
    {
      "cell_type": "code",
      "metadata": {
        "id": "aVYD0deikdHE",
        "outputId": "78611a46-d13f-4d9c-9ccf-1bebf7cc27c2"
      },
      "source": [
        "plt.figure(figsize=(10,6))\n",
        "plt.plot(x, y, label='orig', c='b')\n",
        "plt.plot(x, predicted, label='predict', c='r')\n",
        "plt.xscale('log')"
      ],
      "execution_count": null,
      "outputs": [
        {
          "output_type": "display_data",
          "data": {
            "image/png": "[encoded data removed]",
            "text/plain": [
              "<Figure size 720x432 with 1 Axes>"
            ]
          },
          "metadata": {
            "tags": [],
            "needs_background": "light"
          }
        }
      ]
    },
    {
      "cell_type": "code",
      "metadata": {
        "id": "zeK293eVkdHG"
      },
      "source": [
        "test = torch.tensor(np.array([[600,]], dtype=np.float32))\n",
        "predict = model(test)"
      ],
      "execution_count": null,
      "outputs": []
    },
    {
      "cell_type": "code",
      "metadata": {
        "id": "9MxjmzQWkdHG",
        "outputId": "46570ff4-d6bd-4223-8f34-670f3c2f5509"
      },
      "source": [
        "predict"
      ],
      "execution_count": null,
      "outputs": [
        {
          "output_type": "execute_result",
          "data": {
            "text/plain": [
              "tensor([[273.1032]], grad_fn=<AddmmBackward>)"
            ]
          },
          "metadata": {
            "tags": []
          },
          "execution_count": 107
        }
      ]
    },
    {
      "cell_type": "code",
      "metadata": {
        "id": "ZoBPnosakdHG"
      },
      "source": [
        ""
      ],
      "execution_count": null,
      "outputs": []
    }
  ]
}
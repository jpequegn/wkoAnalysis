{
 "cells": [
  {
   "cell_type": "markdown",
   "metadata": {
    "colab_type": "text",
    "id": "view-in-github"
   },
   "source": [
    "<a href=\"https://colab.research.google.com/github/jpequegn/wkoAnalysis/blob/master/notebooks/PDC%20Curve%20Fitting.ipynb\" target=\"_parent\"><img src=\"https://colab.research.google.com/assets/colab-badge.svg\" alt=\"Open In Colab\"/></a>"
   ]
  },
  {
   "cell_type": "markdown",
   "metadata": {
    "id": "6xziLwtc2bqk"
   },
   "source": [
    "## Bike / Run Power Duration Curve fitting"
   ]
  },
  {
   "cell_type": "code",
   "execution_count": 1,
   "metadata": {
    "colab": {
     "base_uri": "https://localhost:8080/"
    },
    "id": "CJa40PBi2bqp",
    "outputId": "4458527c-928d-4fee-f0ee-49d63618846e"
   },
   "outputs": [],
   "source": [
    "!pip install -q torch torchvision numpy pandas matplotlib lmfit"
   ]
  },
  {
   "cell_type": "code",
   "execution_count": 2,
   "metadata": {
    "id": "FQ0bwzTO2bqq"
   },
   "outputs": [],
   "source": [
    "import torch\n",
    "import numpy as np\n",
    "import pandas as pd\n",
    "import matplotlib.pyplot as plt\n",
    "from lmfit import Model, Parameters"
   ]
  },
  {
   "cell_type": "markdown",
   "metadata": {
    "id": "Px5RwH8v2bqq"
   },
   "source": [
    "# Import the data from a CSV (Secs, Watts)"
   ]
  },
  {
   "cell_type": "code",
   "execution_count": 4,
   "metadata": {
    "id": "PhVR2SWQ2bqr"
   },
   "outputs": [],
   "source": [
    "df = pd.read_csv(\"../data/mmpcurve-0104.csv\")"
   ]
  },
  {
   "cell_type": "markdown",
   "metadata": {
    "id": "zcjT86hS2bqr"
   },
   "source": [
    "## Let's try to implement the WKO model\n",
    "The model seems to follow the following formula: P(t) = FRC / t * (1-exp(-t/tau)) + FTP * (1-exp(-t/tau2))\n",
    "       [-a * Ln(t/TTE) if t>TTE]\n",
    "       \n",
    "       \n",
    "FRC: Functional Reserve Capacity\n",
    "\n",
    "FTP: Functional Threshold Power\n",
    "\n",
    "TTE: Time To Exhaustion\n",
    "\n",
    "Other parameters have less direct traceability / meaning but lim(tau, t->0) is close to FRC/Pmax"
   ]
  },
  {
   "cell_type": "markdown",
   "metadata": {
    "id": "2CHUdk8w2bqs"
   },
   "source": [
    "## 1st option: Using LMFIT"
   ]
  },
  {
   "cell_type": "code",
   "execution_count": 5,
   "metadata": {
    "id": "gWNAO6SQ2bqs"
   },
   "outputs": [],
   "source": [
    "def power_curve(x, frc, ftp, tte, tau, tau2, a):\n",
    "    p = frc / x * (1.0 - np.exp(-x / tau)) + ftp * (1 - np.exp(-x / tau2))\n",
    "    p -= np.maximum(0, a * np.log(x / tte))\n",
    "    return p"
   ]
  },
  {
   "cell_type": "code",
   "execution_count": 6,
   "metadata": {
    "id": "IAsZmG5o2bqt"
   },
   "outputs": [],
   "source": [
    "def fit_curve(df_x, df_y, maxtau=20):\n",
    "\n",
    "    gmodel = Model(power_curve)\n",
    "    params = Parameters()\n",
    "    params.add('frc', value=5000, min=1, max=15000)\n",
    "    params.add('ftp', value=200, min=150, max=400)\n",
    "    params.add('tte', value=2000, min=1200)\n",
    "    params.add('tau', value=12, min=10, max=maxtau)\n",
    "    params.add('tau2', value=30, min=10)\n",
    "    params.add('a', value=10, min=10, max=200)\n",
    "    \n",
    "    result = gmodel.fit(df_y, params, x=df_x)\n",
    "    fit = power_curve(df_x, result.best_values['frc'], result.best_values['ftp'], \n",
    "                  result.best_values['tte'], result.best_values['tau'],\n",
    "                  result.best_values['tau2'], result.best_values['a'])\n",
    "\n",
    "    return result, fit"
   ]
  },
  {
   "cell_type": "code",
   "execution_count": 7,
   "metadata": {
    "id": "dfDQ_d8Z2bqt"
   },
   "outputs": [],
   "source": [
    "df_x = df['Secs']\n",
    "df_y = df['Watts']"
   ]
  },
  {
   "cell_type": "code",
   "execution_count": 8,
   "metadata": {
    "colab": {
     "base_uri": "https://localhost:8080/"
    },
    "id": "tlzZIbc22bqu",
    "outputId": "12cbdf8e-845a-4227-d5a3-0936271979f7"
   },
   "outputs": [
    {
     "name": "stdout",
     "output_type": "stream",
     "text": [
      "parameter names: ['frc', 'ftp', 'tte', 'tau', 'tau2', 'a']\n",
      "independent variables: ['x']\n"
     ]
    }
   ],
   "source": [
    "gmodel = Model(power_curve)\n",
    "print('parameter names: {}'.format(gmodel.param_names))\n",
    "print('independent variables: {}'.format(gmodel.independent_vars))"
   ]
  },
  {
   "cell_type": "code",
   "execution_count": 9,
   "metadata": {
    "colab": {
     "base_uri": "https://localhost:8080/"
    },
    "id": "1ydC-K5I2bqw",
    "outputId": "2cf01a80-534d-474b-aafa-e875c44716ed"
   },
   "outputs": [
    {
     "data": {
      "text/plain": [
       "{'frc': 9418.044196692506,\n",
       " 'ftp': 224.00440424782482,\n",
       " 'tte': 1248.2930008379976,\n",
       " 'tau': 17.673572271745385,\n",
       " 'tau2': 15.273658786242978,\n",
       " 'a': 12.8431138387053}"
      ]
     },
     "execution_count": 9,
     "metadata": {},
     "output_type": "execute_result"
    }
   ],
   "source": [
    "result, fit = fit_curve(df_x, df_y)\n",
    "result.best_values"
   ]
  },
  {
   "cell_type": "code",
   "execution_count": 10,
   "metadata": {
    "id": "mpRrl4C62bqw"
   },
   "outputs": [],
   "source": [
    "# %matplotlib widget"
   ]
  },
  {
   "cell_type": "code",
   "execution_count": 11,
   "metadata": {
    "colab": {
     "base_uri": "https://localhost:8080/",
     "height": 378
    },
    "id": "3WQiMdkN2bqx",
    "outputId": "a1601464-d1d3-458f-9904-2f13f82f031d",
    "scrolled": true
   },
   "outputs": [
    {
     "data": {
      "image/png": "[encoded data removed]",
      "text/plain": [
       "<Figure size 720x432 with 1 Axes>"
      ]
     },
     "metadata": {
      "needs_background": "light"
     },
     "output_type": "display_data"
    }
   ],
   "source": [
    "plt.figure(figsize=(10,6))\n",
    "plt.plot(df_x, df_y, label='MMP')\n",
    "plt.plot(df_x, fit, label='PDC')\n",
    "plt.legend()\n",
    "plt.grid(True)\n",
    "plt.xscale('log')"
   ]
  },
  {
   "cell_type": "code",
   "execution_count": 12,
   "metadata": {
    "colab": {
     "base_uri": "https://localhost:8080/",
     "height": 394
    },
    "id": "sIAAgdgE2bqx",
    "outputId": "bfc0544a-d6ac-413e-9023-81f588ad589c"
   },
   "outputs": [
    {
     "data": {
      "image/png": "[encoded data removed]",
      "text/plain": [
       "<Figure size 720x432 with 1 Axes>"
      ]
     },
     "metadata": {
      "needs_background": "light"
     },
     "output_type": "display_data"
    }
   ],
   "source": [
    "plt.ion()\n",
    "plt.figure(figsize=(10,6))\n",
    "# fig, ax = plt.subplots()\n",
    "plt.plot(df_x, result.residual, label='residuals')\n",
    "plt.grid(True)\n",
    "plt.title('Normalized residuals')\n",
    "plt.legend()\n",
    "plt.xscale('log')"
   ]
  },
  {
   "cell_type": "markdown",
   "metadata": {
    "id": "qLBn60Ei2bqx"
   },
   "source": [
    "# What-if Analysis"
   ]
  },
  {
   "cell_type": "code",
   "execution_count": 13,
   "metadata": {
    "id": "4-LBfYkT2bqx"
   },
   "outputs": [],
   "source": [
    "def addNewBest(df, sec, watt):\n",
    "    newbest = (df['Secs']<sec) & (df['Watts']<watt)\n",
    "    df.loc[newbest, \"Watts\"] = watt"
   ]
  },
  {
   "cell_type": "code",
   "execution_count": 14,
   "metadata": {
    "id": "w52JqoQg2bqz"
   },
   "outputs": [],
   "source": [
    "df_temp = df.copy(deep=True)"
   ]
  },
  {
   "cell_type": "code",
   "execution_count": 18,
   "metadata": {
    "id": "OmNu6pNk2bqz"
   },
   "outputs": [],
   "source": [
    "# Add some new bests to the MMP curve - then calculate the impact on FRC, FTP and TTE\n",
    "# addNewBest(df_temp, 30, 480)\n",
    "addNewBest(df_temp, 110, 370)"
   ]
  },
  {
   "cell_type": "code",
   "execution_count": 19,
   "metadata": {
    "colab": {
     "base_uri": "https://localhost:8080/",
     "height": 378
    },
    "id": "v3aJhdUs2bqz",
    "outputId": "45f8ab55-553c-47a3-c565-11cc059c6b2f"
   },
   "outputs": [
    {
     "data": {
      "image/png": "[encoded data removed]",
      "text/plain": [
       "<Figure size 720x432 with 1 Axes>"
      ]
     },
     "metadata": {
      "needs_background": "light"
     },
     "output_type": "display_data"
    }
   ],
   "source": [
    "plt.figure(figsize=(10,6))\n",
    "plt.plot(df_x, df_temp['Watts'], label='Scenario', color='r')\n",
    "plt.plot(df_x, df['Watts'], label='MMP', color='g')\n",
    "plt.plot(df_x, fit, label='PDC', color='b')\n",
    "plt.grid(True)\n",
    "plt.legend()\n",
    "plt.xscale('log')"
   ]
  },
  {
   "cell_type": "code",
   "execution_count": 20,
   "metadata": {
    "colab": {
     "base_uri": "https://localhost:8080/"
    },
    "id": "4DHrpMUr2bqz",
    "outputId": "9086af41-a89a-4bf5-d921-fbf8fc32223c"
   },
   "outputs": [
    {
     "data": {
      "text/plain": [
       "({'a': 12.843096383583916,\n",
       "  'frc': 9418.050501307842,\n",
       "  'ftp': 224.00437264242856,\n",
       "  'tau': 17.673583003309968,\n",
       "  'tau2': 15.273677503472868,\n",
       "  'tte': 1248.291827686135},\n",
       " {'a': 21.316312400858717,\n",
       "  'frc': 8843.34557568335,\n",
       "  'ftp': 232.81235797983786,\n",
       "  'tau': 15.99996165267869,\n",
       "  'tau2': 15.88765976378943,\n",
       "  'tte': 1228.8059452762316})"
      ]
     },
     "execution_count": 20,
     "metadata": {},
     "output_type": "execute_result"
    }
   ],
   "source": [
    "\n",
    "result_scen, fit_scen = fit_curve(df_temp['Secs'], df_temp['Watts'], maxtau=16)\n",
    "result.best_values, result_scen.best_values"
   ]
  },
  {
   "cell_type": "code",
   "execution_count": null,
   "metadata": {
    "colab": {
     "base_uri": "https://localhost:8080/",
     "height": 379
    },
    "id": "2TacCv5Z2bqz",
    "outputId": "9871e538-d69a-4c1b-9582-10bc616612fc"
   },
   "outputs": [
    {
     "data": {
      "image/png": "[encoded data removed]",
      "text/plain": [
       "<Figure size 720x432 with 1 Axes>"
      ]
     },
     "metadata": {
      "needs_background": "light"
     },
     "output_type": "display_data"
    }
   ],
   "source": [
    "plt.figure(figsize=(10,6))\n",
    "plt.plot(df_temp['Secs'], df_temp['Watts'], label='MMP')\n",
    "plt.plot(df_temp['Secs'], fit_scen, label='PDC')\n",
    "plt.legend()\n",
    "plt.xscale('log')"
   ]
  },
  {
   "cell_type": "code",
   "execution_count": null,
   "metadata": {
    "colab": {
     "base_uri": "https://localhost:8080/"
    },
    "id": "00LpvAh22bqz",
    "outputId": "960202e3-022b-4ac5-dd48-a5aa8b6285cf"
   },
   "outputs": [
    {
     "name": "stdout",
     "output_type": "stream",
     "text": [
      "Int64Index([115], dtype='int64')\n"
     ]
    }
   ],
   "source": [
    "sec = 1200\n",
    "watt = 256\n",
    "newbest = (df['Secs']<sec) & (df['Watts']<watt)\n",
    "test = df.loc[newbest]\n",
    "print(test.index[-1:]+1)"
   ]
  },
  {
   "cell_type": "markdown",
   "metadata": {
    "id": "o6R2SCkq2bqz"
   },
   "source": [
    "## 2nd option: Approximate the PDC with a FC neural net\n",
    "\n",
    "Basic implementation in Pytorch"
   ]
  },
  {
   "cell_type": "code",
   "execution_count": 21,
   "metadata": {
    "id": "hzuq_x2x2bq0"
   },
   "outputs": [],
   "source": [
    "inp = 1\n",
    "hidden = 30\n",
    "out = 1\n",
    "lr = 1e-3"
   ]
  },
  {
   "cell_type": "code",
   "execution_count": 22,
   "metadata": {
    "id": "76nctCeQ2bq0"
   },
   "outputs": [],
   "source": [
    "model = torch.nn.Sequential(\n",
    "    torch.nn.Linear(inp, hidden),\n",
    "    torch.nn.ReLU(),\n",
    "    torch.nn.Linear(hidden, hidden),\n",
    "    torch.nn.ReLU(),\n",
    "    torch.nn.Linear(hidden, hidden),\n",
    "    torch.nn.ReLU(),\n",
    "    torch.nn.Linear(hidden, out)\n",
    ")"
   ]
  },
  {
   "cell_type": "code",
   "execution_count": 23,
   "metadata": {
    "id": "h4vWwErZ2bq0"
   },
   "outputs": [],
   "source": [
    "loss_fn = torch.nn.MSELoss(reduction='sum')"
   ]
  },
  {
   "cell_type": "code",
   "execution_count": 24,
   "metadata": {
    "id": "ZVCiONzO2bq0"
   },
   "outputs": [],
   "source": [
    "# Generate some training data based on the true function\n",
    "x = torch.tensor(df['Secs'].values.astype(np.float32).reshape(len(df),1))\n",
    "y = torch.tensor(df['Watts'].values.astype(np.float32).reshape(len(df),1))\n"
   ]
  },
  {
   "cell_type": "code",
   "execution_count": 25,
   "metadata": {
    "id": "QW_BJjLZ2bq1"
   },
   "outputs": [],
   "source": [
    "optim = torch.optim.Adam(model.parameters(), lr = lr)"
   ]
  },
  {
   "cell_type": "code",
   "execution_count": 26,
   "metadata": {
    "colab": {
     "base_uri": "https://localhost:8080/"
    },
    "id": "Uvsvg_Up2bq1",
    "outputId": "46453f4a-d73c-4840-b7aa-dacfa0f09698"
   },
   "outputs": [
    {
     "name": "stdout",
     "output_type": "stream",
     "text": [
      "Epoch 0, Loss: 19675676.000000\n",
      "Epoch 5000, Loss: 16274.308594\n",
      "Epoch 10000, Loss: 3147.900391\n",
      "Epoch 15000, Loss: 34116.281250\n",
      "Epoch 20000, Loss: 7239.381836\n",
      "Epoch 25000, Loss: 2216.297607\n",
      "Epoch 30000, Loss: 3434.020508\n"
     ]
    }
   ],
   "source": [
    "for i in range(30001):\n",
    "    y_pred = model(x)\n",
    "    loss = loss_fn(y_pred, y)\n",
    "    if (i%5000)==0:\n",
    "        print('Epoch {}, Loss: {:2f}'.format(i, loss.item()))\n",
    "    \n",
    "    optim.zero_grad()\n",
    "    loss.backward()\n",
    "    optim.step()"
   ]
  },
  {
   "cell_type": "code",
   "execution_count": 27,
   "metadata": {
    "colab": {
     "base_uri": "https://localhost:8080/"
    },
    "id": "8lyOqWmq2bq1",
    "outputId": "7014a19d-a323-4752-fa16-6db6a99e52b2"
   },
   "outputs": [
    {
     "data": {
      "text/plain": [
       "Sequential(\n",
       "  (0): Linear(in_features=1, out_features=30, bias=True)\n",
       "  (1): ReLU()\n",
       "  (2): Linear(in_features=30, out_features=30, bias=True)\n",
       "  (3): ReLU()\n",
       "  (4): Linear(in_features=30, out_features=30, bias=True)\n",
       "  (5): ReLU()\n",
       "  (6): Linear(in_features=30, out_features=1, bias=True)\n",
       ")"
      ]
     },
     "execution_count": 27,
     "metadata": {},
     "output_type": "execute_result"
    }
   ],
   "source": [
    "model.eval()"
   ]
  },
  {
   "cell_type": "code",
   "execution_count": 28,
   "metadata": {
    "id": "VLPGxXqe2bq2"
   },
   "outputs": [],
   "source": [
    "predicted_tensor = model(x)\n",
    "predicted = predicted_tensor.detach().numpy()"
   ]
  },
  {
   "cell_type": "code",
   "execution_count": 29,
   "metadata": {
    "colab": {
     "base_uri": "https://localhost:8080/",
     "height": 541
    },
    "id": "drGHhaIh2bq2",
    "outputId": "65e23e00-a563-486f-8ffe-001bf7cb841a"
   },
   "outputs": [
    {
     "data": {
      "image/png": "[encoded data removed]",
      "text/plain": [
       "<Figure size 1080x648 with 1 Axes>"
      ]
     },
     "metadata": {
      "needs_background": "light"
     },
     "output_type": "display_data"
    }
   ],
   "source": [
    "plt.figure(figsize=(15,9))\n",
    "plt.plot(x, y, label='orig', c='b')\n",
    "plt.plot(x, predicted, label='predict', c='r')\n",
    "plt.xscale('log')"
   ]
  },
  {
   "cell_type": "code",
   "execution_count": 30,
   "metadata": {
    "colab": {
     "base_uri": "https://localhost:8080/"
    },
    "id": "wra0Im0_2bq3",
    "outputId": "467c91ea-6445-4c07-c461-3cee39008148"
   },
   "outputs": [
    {
     "data": {
      "text/plain": [
       "tensor([[233.8497]], grad_fn=<AddmmBackward0>)"
      ]
     },
     "execution_count": 30,
     "metadata": {},
     "output_type": "execute_result"
    }
   ],
   "source": [
    "# What is the predicted power at 10 mins\n",
    "test = torch.tensor(np.array([[600,]], dtype=np.float32))\n",
    "predict = model(test)\n",
    "predict"
   ]
  },
  {
   "cell_type": "markdown",
   "metadata": {
    "id": "kgCbnWF52bq3"
   },
   "source": [
    "## 3rd option: Use Pytorch autograd to fit the power curve"
   ]
  },
  {
   "cell_type": "code",
   "execution_count": 31,
   "metadata": {
    "id": "baFxUfrl2bq3"
   },
   "outputs": [],
   "source": [
    "def power(x):\n",
    "    p = frc / x * (1.0 - np.exp(-x / tau)) + ftp * (1 - np.exp(-x / tau2))\n",
    "    p -= np.maximum(0, a * np.log(x/tmap))\n",
    "    return p"
   ]
  },
  {
   "cell_type": "code",
   "execution_count": 32,
   "metadata": {
    "id": "BX68CmsV2bq3"
   },
   "outputs": [],
   "source": [
    "frc = torch.ones(1, dtype=torch.float, requires_grad=True)\n",
    "ftp = torch.ones(1, dtype=torch.float, requires_grad=True)\n",
    "tau = 14.7\n",
    "tau2 = 40\n",
    "tmap = 1450\n",
    "a = 22"
   ]
  },
  {
   "cell_type": "code",
   "execution_count": 33,
   "metadata": {
    "id": "yF64IYAu2bq3"
   },
   "outputs": [],
   "source": [
    "optim = torch.optim.Adam([frc, ftp], lr = 0.1)"
   ]
  },
  {
   "cell_type": "code",
   "execution_count": 34,
   "metadata": {
    "id": "-erqCyL92bq4"
   },
   "outputs": [],
   "source": [
    "loss_fn = torch.nn.MSELoss(reduction='sum')"
   ]
  },
  {
   "cell_type": "code",
   "execution_count": 35,
   "metadata": {
    "id": "7dSr34Ud2bq4"
   },
   "outputs": [],
   "source": [
    "# Generate some training data based on the true function\n",
    "x = torch.tensor(df['Secs'].values.astype(np.float32).reshape(len(df),1))\n",
    "y = torch.tensor(df['Watts'].values.astype(np.float32).reshape(len(df),1))"
   ]
  },
  {
   "cell_type": "code",
   "execution_count": 36,
   "metadata": {
    "colab": {
     "base_uri": "https://localhost:8080/"
    },
    "id": "0XOeKqgx2bq4",
    "outputId": "dc99fbfe-6825-40f0-afa6-261515ca0c03"
   },
   "outputs": [
    {
     "name": "stdout",
     "output_type": "stream",
     "text": [
      "Epoch 0, Loss: 16960968.000000\n",
      "Epoch 10000, Loss: 4911694.500000\n",
      "Epoch 20000, Loss: 3880536.750000\n",
      "Epoch 30000, Loss: 2975203.000000\n",
      "Epoch 40000, Loss: 2195382.750000\n",
      "Epoch 50000, Loss: 1540588.750000\n",
      "Epoch 60000, Loss: 1010770.500000\n",
      "Epoch 70000, Loss: 605078.250000\n",
      "Epoch 80000, Loss: 322089.937500\n",
      "Epoch 90000, Loss: 159453.609375\n"
     ]
    }
   ],
   "source": [
    "for i in range(100000):\n",
    "    y_pred = power(x)\n",
    "    loss = loss_fn(y_pred, y)\n",
    "    if (i%10000)==0:\n",
    "        print('Epoch {}, Loss: {:2f}'.format(i, loss.item()))\n",
    "    \n",
    "    optim.zero_grad()\n",
    "    loss.backward()\n",
    "    optim.step()"
   ]
  },
  {
   "cell_type": "code",
   "execution_count": 37,
   "metadata": {
    "colab": {
     "base_uri": "https://localhost:8080/"
    },
    "id": "S1-yWE7V2bq4",
    "outputId": "156ccd4c-e1d7-46da-9cb4-3057e9d74172"
   },
   "outputs": [
    {
     "data": {
      "text/plain": [
       "(tensor([9545.9990], requires_grad=True),\n",
       " tensor([234.3492], requires_grad=True))"
      ]
     },
     "execution_count": 37,
     "metadata": {},
     "output_type": "execute_result"
    }
   ],
   "source": [
    "frc, ftp"
   ]
  },
  {
   "cell_type": "code",
   "execution_count": 38,
   "metadata": {
    "id": "u8xToeTu2bq5"
   },
   "outputs": [],
   "source": [
    "predicted_tensor = power(x)\n",
    "predicted = predicted_tensor.detach().numpy()"
   ]
  },
  {
   "cell_type": "code",
   "execution_count": 39,
   "metadata": {
    "colab": {
     "base_uri": "https://localhost:8080/",
     "height": 378
    },
    "id": "SVmPN2UO2bq5",
    "outputId": "30f3a091-ac45-406f-d637-b40ed2ec8a2f"
   },
   "outputs": [
    {
     "data": {
      "image/png": "[encoded data removed]",
      "text/plain": [
       "<Figure size 720x432 with 1 Axes>"
      ]
     },
     "metadata": {
      "needs_background": "light"
     },
     "output_type": "display_data"
    }
   ],
   "source": [
    "plt.figure(figsize=(10,6))\n",
    "plt.plot(x, y, label='orig', c='b')\n",
    "plt.plot(x, predicted, label='predict', c='r')\n",
    "plt.xscale('log')"
   ]
  },
  {
   "cell_type": "code",
   "execution_count": null,
   "metadata": {
    "id": "D3LtyRDh2bq5"
   },
   "outputs": [],
   "source": []
  }
 ],
 "metadata": {
  "colab": {
   "include_colab_link": true,
   "name": "PDC Curve Fitting.ipynb",
   "provenance": []
  },
  "kernelspec": {
   "display_name": "Python 3 (ipykernel)",
   "language": "python",
   "name": "python3"
  },
  "language_info": {
   "codemirror_mode": {
    "name": "ipython",
    "version": 3
   },
   "file_extension": ".py",
   "mimetype": "text/x-python",
   "name": "python",
   "nbconvert_exporter": "python",
   "pygments_lexer": "ipython3",
   "version": "3.8.5"
  }
 },
 "nbformat": 4,
 "nbformat_minor": 1
}
